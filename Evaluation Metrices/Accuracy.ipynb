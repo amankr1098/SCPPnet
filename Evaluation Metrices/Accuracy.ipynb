{
 "cells": [
  {
   "cell_type": "code",
   "execution_count": null,
   "metadata": {},
   "outputs": [],
   "source": [
    "def accuracy(gt,mask):\n",
    "  \n",
    "  img = cv2.bitwise_xor(gt,mask)\n",
    "  n = np.count_nonzero(img)\n",
    "  sum = mask.size\n",
    "  k = sum-n\n",
    "  acc = k/sum\n",
    "  #print(k)\n",
    "  print(acc)\n",
    "  return(acc)\n",
    "\n",
    "s=0  \n",
    "for i in range(len(y)):\n",
    "  \n",
    "  s = s+accuracy(y[i],result[i])\n",
    "acc = s/len(y)\n",
    "print(\"final accuracy\",acc)"
   ]
  }
 ],
 "metadata": {
  "kernelspec": {
   "display_name": "Python 3",
   "language": "python",
   "name": "python3"
  },
  "language_info": {
   "codemirror_mode": {
    "name": "ipython",
    "version": 3
   },
   "file_extension": ".py",
   "mimetype": "text/x-python",
   "name": "python",
   "nbconvert_exporter": "python",
   "pygments_lexer": "ipython3",
   "version": "3.7.3"
  }
 },
 "nbformat": 4,
 "nbformat_minor": 2
}
