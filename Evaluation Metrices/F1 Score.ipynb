{
 "cells": [
  {
   "cell_type": "markdown",
   "metadata": {},
   "source": [
    "# Precision"
   ]
  },
  {
   "cell_type": "markdown",
   "metadata": {},
   "source": [
    "def precision(gt,mask):\n",
    "  gt = gt.flatten()\n",
    "  mask = mask.flatten()\n",
    "  tn,fp,fn,tp = confusion_matrix(gt,mask).ravel()\n",
    "  prec = tp/(tp+fp)\n",
    "  print(prec)\n",
    "  return(prec)\n",
    "  \n",
    "sum = 0\n",
    "for i in range(len(y)):\n",
    "  sum = sum + precision(y[i],result[i])\n",
    "prec = sum/len(y)\n",
    "print(\"final precision\",prec)"
   ]
  },
  {
   "cell_type": "markdown",
   "metadata": {},
   "source": [
    "# Recall"
   ]
  },
  {
   "cell_type": "code",
   "execution_count": null,
   "metadata": {},
   "outputs": [],
   "source": [
    "def recall(gt,mask):\n",
    "  gt = gt.flatten()\n",
    "  mask = mask.flatten()\n",
    "  tn,fp,fn,tp = confusion_matrix(gt,mask).ravel()\n",
    "  rec = tp/(tp+fn)\n",
    "  print(rec)\n",
    "  return(rec)\n",
    "  \n",
    "sum = 0\n",
    "for i in range(len(y)):\n",
    "  sum = sum + recall(y[i],result[i])\n",
    "rec = sum/len(y)\n",
    "print(\"final recall\",rec)"
   ]
  },
  {
   "cell_type": "markdown",
   "metadata": {},
   "source": [
    "# F1 Score"
   ]
  },
  {
   "cell_type": "code",
   "execution_count": null,
   "metadata": {},
   "outputs": [],
   "source": [
    "def f1_score():\n",
    "  f1 = 2*(prec*rec)/(prec+rec)\n",
    "  print(f1)\n",
    "f1_score()"
   ]
  }
 ],
 "metadata": {
  "kernelspec": {
   "display_name": "Python 3",
   "language": "python",
   "name": "python3"
  },
  "language_info": {
   "codemirror_mode": {
    "name": "ipython",
    "version": 3
   },
   "file_extension": ".py",
   "mimetype": "text/x-python",
   "name": "python",
   "nbconvert_exporter": "python",
   "pygments_lexer": "ipython3",
   "version": "3.7.3"
  }
 },
 "nbformat": 4,
 "nbformat_minor": 2
}
